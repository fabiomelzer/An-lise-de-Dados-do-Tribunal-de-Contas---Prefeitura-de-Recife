{
  "nbformat": 4,
  "nbformat_minor": 0,
  "metadata": {
    "colab": {
      "provenance": [],
      "collapsed_sections": [
        "kWFK4geh47it"
      ],
      "authorship_tag": "ABX9TyN6OcqpXMegC+phJ5vDS6hr",
      "include_colab_link": true
    },
    "kernelspec": {
      "name": "python3",
      "display_name": "Python 3"
    },
    "language_info": {
      "name": "python"
    }
  },
  "cells": [
    {
      "cell_type": "markdown",
      "metadata": {
        "id": "view-in-github",
        "colab_type": "text"
      },
      "source": [
        "<a href=\"https://colab.research.google.com/github/fabiomelzer/Projeto-Tribunal-de-Contas---Prefeitura-de-Recife/blob/main/PROJETO_2_TRIBUNAL_DE_CONTAS.ipynb\" target=\"_parent\"><img src=\"https://colab.research.google.com/assets/colab-badge.svg\" alt=\"Open In Colab\"/></a>"
      ]
    },
    {
      "cell_type": "code",
      "source": [
        "import pandas as pd\n",
        "import matplotlib.pyplot as plt"
      ],
      "metadata": {
        "id": "uWQg7Kv9fY_t"
      },
      "execution_count": null,
      "outputs": []
    },
    {
      "cell_type": "markdown",
      "source": [
        "# **ANÁLISE RECEITAS**\n",
        "\n",
        "---\n",
        "\n",
        "\n",
        "\n",
        "---\n",
        "\n"
      ],
      "metadata": {
        "id": "kWFK4geh47it"
      }
    },
    {
      "cell_type": "code",
      "execution_count": null,
      "metadata": {
        "id": "W_MnWVKaqz94"
      },
      "outputs": [],
      "source": [
        "import pandas as pd\n",
        "pd.read_csv(\"recife_receitas2021.csv\", encoding='utf-8')\n",
        "pd.set_option('display.max_columns', None)"
      ]
    },
    {
      "cell_type": "code",
      "source": [
        "# Carregar o arquivo CSV em um DataFrame\n",
        "file_path_Receitas = 'recife_receitas2021.csv'\n",
        "df = pd.read_csv(file_path_Receitas)\n",
        "\n",
        "# Exibir os tipos de variáveis das colunas\n",
        "print(df.dtypes)\n"
      ],
      "metadata": {
        "id": "cvbPh48Nx5NH"
      },
      "execution_count": null,
      "outputs": []
    },
    {
      "cell_type": "code",
      "source": [
        "#para ver as 5 primeiras linhas:\n",
        "df.head()"
      ],
      "metadata": {
        "id": "i09YoTskqAeB"
      },
      "execution_count": null,
      "outputs": []
    },
    {
      "cell_type": "code",
      "source": [
        "\n",
        "df.head()\n",
        "from pandas.core.arrays.interval import value_counts\n",
        "print(df.isnull().sum())\n",
        "print(df.dtypes)\n",
        "print(df.shape)\n",
        "df.info()\n"
      ],
      "metadata": {
        "id": "aE7nJD9D103v"
      },
      "execution_count": null,
      "outputs": []
    },
    {
      "cell_type": "markdown",
      "source": [
        "**LIMPEZA DO DATAFRAME:**"
      ],
      "metadata": {
        "id": "PX_xkm1i9N2h"
      }
    },
    {
      "cell_type": "code",
      "source": [
        "#-------------------------------------------------------------------------------------#\n",
        "# Substituir '.' por \"nada\" nas colunas:\n",
        "df['receita_arrecadada'] = df['receita_arrecadada'].str.replace('.', '')\n",
        "df['receita_arrecadada'] = df['receita_arrecadada'].str.replace(',', '.').astype(float)\n",
        "print(df)\n"
      ],
      "metadata": {
        "id": "sbXh8QIaqJoK"
      },
      "execution_count": null,
      "outputs": []
    },
    {
      "cell_type": "code",
      "source": [
        "# Substituir letras desconfiguradas:\n",
        "\n",
        "substituicoes_Receitas = {\n",
        "    'Ã\\x83Â\\x83Ã\\x82Â\\x83Ã\\x83Â\\x82Ã\\x82Â\\x87': 'Ç',\n",
        "    '\\x83Â\\x83Ã\\x82Â\\x83Ã\\x83Â\\x82Ã\\x82Â\\x83O': 'O',\n",
        "    'Ã\\x83Â\\x83Ã\\x82Â\\x83Ã\\x83Â\\x82Ã\\x82Â\\x94': 'Ô',\n",
        "    'Ã\\x83Â\\x83Ã\\x82Â\\x83Ã\\x83Â\\x82Ã\\x82Â\\x8a': 'Ê',\n",
        "    'Ã\\x83Â\\x83Ã\\x82Â\\x83Ã\\x83Â\\x82Ã\\x82Â\\x9a': 'Ú',\n",
        "    'Ã\\x83Â\\x83Ã\\x82Â\\x83Ã\\x83Â\\x82Ã\\x82Â\\x8d': 'Í',\n",
        "    'Ã\\x83Â\\x83Ã\\x82Â\\x83Ã\\x83Â\\x82Ã\\x82Â\\x81': 'Á',\n",
        "    'Ã\\x83Â\\x83Ã\\x82Â\\x83Ã\\x83Â\\x82Ã\\x82Â\\x95': 'Õ',\n",
        "    'Ã\\x83Â\\x83Ã\\x82Â\\x83Ã\\x83Â\\x82Ã\\x82Â\\x89': 'É',\n",
        "    'Ã\\x83Â\\x83Ã\\x82Â\\x83Ã\\x83Â\\x82Ã\\x82Â\\x93': 'Ó',\n",
        "    'Ã\\x83Â\\x83Ã\\x82Â\\x83Ã\\x83Â\\x82Ã\\x82Â\\x80': 'À',\n",
        "    'Ã\\x83Â\\x83Ã\\x82Â\\x83Ã\\x83Â\\x82Ã\\x82Â\\x82': 'Â',\n",
        "    'Ã\\x83Â\\x83Ã\\x82Â\\x82Ã\\x83Â\\x82Ã\\x82Âº': 'º'\n",
        "}\n",
        "\n",
        "# Aplicar as substituições em todas as colunas relevantes\n",
        "colunas_a_corrigir = ['orgao_nome', 'fonte_recurso_nome', 'unidade_nome', 'fonte_origem_receita_nome',\n",
        "                      'subfonte_receita_nome', 'alinea_receita_nome', 'rubrica_receita_nome', 'subalinea_receita_nome', 'receita_local_nome']\n",
        "for coluna in colunas_a_corrigir:\n",
        "    df[coluna] = df[coluna].replace(substituicoes_Receitas, regex=True)\n",
        "\n",
        "df.head()\n",
        "#-------------------------------------------------------------------------------------#"
      ],
      "metadata": {
        "id": "_NjzLIXJ9Tcg"
      },
      "execution_count": null,
      "outputs": []
    },
    {
      "cell_type": "markdown",
      "source": [
        "# **ANÁLISE DESPESAS**\n",
        "\n",
        "---\n",
        "\n",
        "\n",
        "\n",
        "---\n"
      ],
      "metadata": {
        "id": "fqtKTWwNj5JS"
      }
    },
    {
      "cell_type": "code",
      "source": [
        "import pandas as pd\n",
        "pd.read_csv(\"recife_despesas2021.csv\", encoding='utf-8')\n",
        "pd.set_option('display.max_columns', None)"
      ],
      "metadata": {
        "id": "8xu-zn6JkAXA"
      },
      "execution_count": null,
      "outputs": []
    },
    {
      "cell_type": "code",
      "source": [
        "# Carregar o arquivo CSV em um DataFrame\n",
        "file_path_Despesas = 'recife_despesas2021.csv'\n",
        "df = pd.read_csv(file_path_Despesas)\n",
        "\n",
        "# Exibir os tipos de variáveis das colunas\n",
        "print(df.dtypes)"
      ],
      "metadata": {
        "id": "H6iSWDdpkAUY"
      },
      "execution_count": null,
      "outputs": []
    },
    {
      "cell_type": "code",
      "source": [
        "from pandas.core.arrays.interval import value_counts\n",
        "print(df.isnull().sum())\n",
        "print(df.dtypes)\n",
        "print(df.shape)\n",
        "df.info()\n",
        "#para ver as 5 primeiras linhas:\n",
        "df.head(50)\n"
      ],
      "metadata": {
        "id": "a49g3Qm2kARw"
      },
      "execution_count": null,
      "outputs": []
    },
    {
      "cell_type": "markdown",
      "source": [
        "**LIMPEZA DO DATAFRAME:**"
      ],
      "metadata": {
        "id": "RJW-qV-MmO0B"
      }
    },
    {
      "cell_type": "code",
      "source": [
        "#-------------------------------------------------------------------------------------#\n",
        "# Substituir '.' por \"nada\" nas colunas:\n",
        "df['valor_pago'] = df['valor_pago'].str.replace('.', '')\n",
        "df['valor_pago'] = df['valor_pago'].str.replace(',', '.').astype(float)\n",
        "print(df)"
      ],
      "metadata": {
        "id": "uXor2ZCGrA-p"
      },
      "execution_count": null,
      "outputs": []
    },
    {
      "cell_type": "code",
      "source": [
        "# Substituir letras desconfiguradas:\n",
        "\n",
        "substituicoes_Despesas = {\n",
        "    'Ã\\x83Â\\x83Ã\\x82Â\\x83Ã\\x83Â\\x82Ã\\x82Â\\x87': 'Ç',\n",
        "    '\\x83Â\\x83Ã\\x82Â\\x83Ã\\x83Â\\x82Ã\\x82Â\\x83O': 'O',\n",
        "    'Ã\\x83Â\\x83Ã\\x82Â\\x83Ã\\x83Â\\x82Ã\\x82Â\\x94': 'Ô',\n",
        "    'Ã\\x83Â\\x83Ã\\x82Â\\x83Ã\\x83Â\\x82Ã\\x82Â\\x8a': 'Ê',\n",
        "    'Ã\\x83Â\\x83Ã\\x82Â\\x83Ã\\x83Â\\x82Ã\\x82Â\\x9a': 'Ú',\n",
        "    'Ã\\x83Â\\x83Ã\\x82Â\\x83Ã\\x83Â\\x82Ã\\x82Â\\x8d': 'Í',\n",
        "    'Ã\\x83Â\\x83Ã\\x82Â\\x83Ã\\x83Â\\x82Ã\\x82Â\\x81': 'Á',\n",
        "    'Ã\\x83Â\\x83Ã\\x82Â\\x83Ã\\x83Â\\x82Ã\\x82Â\\x95': 'Õ',\n",
        "    'Ã\\x83Â\\x83Ã\\x82Â\\x83Ã\\x83Â\\x82Ã\\x82Â\\x89': 'É',\n",
        "    'Ã\\x83Â\\x83Ã\\x82Â\\x83Ã\\x83Â\\x82Ã\\x82Â\\x93': 'Ó',\n",
        "    'Ã\\x83Â\\x83Ã\\x82Â\\x83Ã\\x83Â\\x82Ã\\x82Â\\x80': 'À',\n",
        "    'Ã\\x83Â\\x83Ã\\x82Â\\x83Ã\\x83Â\\x82Ã\\x82Â\\x82': 'Â',\n",
        "    'Ã\\x83Â\\x83Ã\\x82Â\\x82Ã\\x83Â\\x82Ã\\x82Âº': 'º'\n",
        "}\n",
        "\n",
        "# Aplicar as substituições em todas as colunas relevantes\n",
        "colunas_a_corrigir_despesas = ['orgao_nome', 'unidade_nome','fonte_recurso_nome', 'modalidade_aplicacao_nome', 'elemento_nome', 'subelemento_nome', 'funcao_nome', 'subfuncao_nome', 'programa_nome', 'credor_nome', 'modalidade_licitacao_nome']\n",
        "for coluna in colunas_a_corrigir_despesas:\n",
        "    df[coluna] = df[coluna].replace(substituicoes_Despesas, regex=True)\n",
        "\n",
        "df.head(5)\n",
        "#-------------------------------------------------------------------------------------#"
      ],
      "metadata": {
        "id": "3YOob2n6kAJE"
      },
      "execution_count": null,
      "outputs": []
    },
    {
      "cell_type": "markdown",
      "source": [
        "# **ANÁLISE CONTRATOS**\n",
        "\n",
        "---\n",
        "\n",
        "\n",
        "\n",
        "---\n"
      ],
      "metadata": {
        "id": "weoz4I0BsAVB"
      }
    },
    {
      "cell_type": "code",
      "source": [
        "import pandas as pd\n",
        "pd.read_csv(\"recife_contratos.csv\", encoding='utf-8')\n",
        "pd.set_option('display.max_columns', None)"
      ],
      "metadata": {
        "id": "RkTC17AHj__8"
      },
      "execution_count": null,
      "outputs": []
    },
    {
      "cell_type": "code",
      "source": [
        "# Carregar o arquivo CSV em um DataFrame\n",
        "file_path_Contratos = 'recife_contratos.csv'\n",
        "df = pd.read_csv(file_path_Contratos)\n",
        "\n",
        "# Exibir os tipos de variáveis das colunas\n",
        "print(df.dtypes)"
      ],
      "metadata": {
        "id": "agbqu3WbsMSH"
      },
      "execution_count": null,
      "outputs": []
    },
    {
      "cell_type": "code",
      "source": [
        "from pandas.core.arrays.interval import value_counts\n",
        "print(df.isnull().sum())\n",
        "print(df.dtypes)\n",
        "print(df.shape)\n",
        "df.info()\n",
        "#para ver as 5 primeiras linhas:\n",
        "df.head()"
      ],
      "metadata": {
        "id": "Sk0yt_kzsMNZ"
      },
      "execution_count": null,
      "outputs": []
    },
    {
      "cell_type": "markdown",
      "source": [
        "**LIMPEZA DO DATAFRAME:**"
      ],
      "metadata": {
        "id": "9XaaQPNYtHUS"
      }
    },
    {
      "cell_type": "code",
      "source": [
        "#-------------------------------------------------------------------------------------#\n",
        "# substituir \"NaN\" por \"o\":\n",
        "df = df.fillna(0)\n",
        "\n",
        "# Suponha que você tenha um DataFrame chamado 'df' com uma coluna 'datainiciovigencia'\n",
        "# Use a função pd.to_datetime() para tentar converter as datas\n",
        "df['datainiciovigencia'] = pd.to_datetime(df['datainiciovigencia'], errors='coerce')\n",
        "df['datafimvigencia'] = pd.to_datetime(df['datafimvigencia'], errors='coerce')\n",
        "\n",
        "# Filtrar as linhas com datas inválidas (NaN)\n",
        "df = df.dropna(subset=['datainiciovigencia'])\n",
        "df = df.dropna(subset=['datafimvigencia'])\n",
        "\n",
        "# Use a função dt.strftime() para formatar as datas no novo formato 'dd-mm-aaaa'\n",
        "df['datainiciovigencia'] = df['datainiciovigencia'].dt.strftime('%d-%m-%Y')\n",
        "df['datafimvigencia'] = df['datafimvigencia'].dt.strftime('%d-%m-%Y')\n",
        "\n",
        "#AJUSTANDO O ANO DE CONTRATO:\n",
        "\n",
        "# Use o método astype() para converter a coluna para o tipo int (removendo o decimal)\n",
        "df['anocontrato'] = df['anocontrato'].astype(int)\n",
        "# Use o método .astype(str) para converter a coluna para o tipo string\n",
        "df['anocontrato'] = df['anocontrato'].astype(str)\n",
        "# Use o método .str.zfill(4) para preencher com zeros à esquerda e ter quatro dígitos\n",
        "df['anocontrato'] = df['anocontrato'].str.zfill(4)\n",
        "\n",
        "#AJUSTANDO VALORCONTRATO1 E VALORCONTRATO2:\n",
        "\n",
        "df['valorcontrato1'] = df['valorcontrato1'].astype(int)\n",
        "df['valorcontrato2'] = df['valorcontrato2'].astype(int)\n",
        "\n",
        "#### CRIAR UMA NOVA COLUNA TIRANDO OS ULTIMOS 4 DIGITOS DA COLUNA \"numerocontrato\" PARA CONSIDERAR COMO O \"ANO DE CONTRATO\"\n",
        "\n",
        "df.head(30)"
      ],
      "metadata": {
        "id": "7-_0ljEtsMD8"
      },
      "execution_count": null,
      "outputs": []
    },
    {
      "cell_type": "markdown",
      "source": [
        "# **RESPOSTAS**\n",
        "\n",
        "---\n",
        "\n",
        "\n",
        "\n",
        "---\n"
      ],
      "metadata": {
        "id": "aX946jCktwov"
      }
    },
    {
      "cell_type": "code",
      "source": [
        "# 1. Qual o mês de maior valor de receita? colunas \"mes\" e \"receita_arrecadada\" OK\n",
        "# somar todas as receitas nos mesmos meses e ver a maior\n",
        "\n",
        "filtro_Janeiro = df['mes'] == 1 # TESTE :: verificando linha a linha se tem valor 1\n",
        "df[filtro_Janeiro] # filtrando com os verdadeiros e falsos\n",
        "\n",
        "soma_Janeiro = df[filtro_Janeiro][\"receita_arrecadada\"].sum()\n",
        "print(soma_Janeiro)\n",
        "\n",
        "# agora fazer para os 12 meses e ordenar do maior pro menor (loop)\n",
        "\n",
        "listaMes_Valor = df.groupby(by= 'mes')['receita_arrecadada'].sum().sort_values(ascending=False)\n",
        "listaMes_Valor = listaMes_Valor.astype(int)\n",
        "\n",
        "\n",
        "print(listaMes_Valor)\n",
        "print(f\"O mes de maior receita é: {listaMes_Valor.index[0]}\")\n",
        "\n",
        "\n",
        "listaMes_Valor.plot (kind = 'bar') # VER COMO FAZ PARA COLOCAR OS VALORES TOTAIS POR MES\n",
        "\n",
        "ax = listaMes_Valor.plot(kind='bar', legend=None)  # Desativar a legenda\n",
        "# Adicionar rótulos de valor nas barras\n",
        "for p in ax.patches:\n",
        "    ax.annotate(f'{p.get_height():.2f}', (p.get_x() + p.get_width() / 2., p.get_height()), ha='center', va='bottom')\n",
        "\n",
        "# Personalizar o gráfico\n",
        "plt.xlabel('mes')\n",
        "plt.ylabel('Valor Total')\n",
        "plt.title('Valores Totais por Mês')\n",
        "\n",
        "plt.tight_layout()\n",
        "plt.show()"
      ],
      "metadata": {
        "id": "VPHr-TiJ5zA3"
      },
      "execution_count": null,
      "outputs": []
    },
    {
      "cell_type": "code",
      "source": [
        "# 2. Qual a maior fonte de renda do município? OK\n",
        "# verificar a relação entre a coluna 'fonte_recurso_nome' e \"receita_arrecadada\"\n",
        "\n",
        "# Primeiro verificando quais os valores únicos presentes na coluna \"fonte_recurso_nome\":\n",
        "\n",
        "valores_unicos = df['fonte_recurso_nome'].unique()\n",
        "\n",
        "print(valores_unicos)\n",
        "\n",
        "soma_por_FonteRecurso = df.groupby('fonte_recurso_nome')['receita_arrecadada'].sum().reset_index()\n",
        "\n",
        "print(soma_por_FonteRecurso)\n",
        "\n",
        "#maior_fonte_renda = soma_por_FonteRecurso[soma_por_FonteRecurso['receita_arrecadada'] == soma_por_FonteRecurso['receita_arrecadada'].max()]\n",
        "maior_fonte_renda = soma_por_FonteRecurso.loc[soma_por_FonteRecurso['receita_arrecadada'].idxmax()]['fonte_recurso_nome']\n",
        "\n",
        "print(maior_fonte_renda)\n",
        "print(f\"A maior fonte de renda do municipio é: {maior_fonte_renda}\")\n",
        "\n",
        "##### GRÁFICO #####\n",
        "\n",
        "top_10_fontes = soma_por_FonteRecurso.sort_values(by='receita_arrecadada', ascending=False).head(10)\n",
        "\n",
        "plt.figure(figsize=(12, 6))\n",
        "plt.barh(top_10_fontes['fonte_recurso_nome'], top_10_fontes['receita_arrecadada'])\n",
        "plt.xlabel('Fonte de Renda')\n",
        "plt.ylabel('Receita Arrecadada')\n",
        "plt.title('Top 10 Fontes de Renda')\n",
        "plt.xticks(rotation=90)  # Rotacione os rótulos do eixo x para melhor legibilidade\n",
        "\n",
        "# Ajuste o espaço entre as barras para melhor visualização (opcional)\n",
        "plt.tight_layout()\n",
        "\n",
        "plt.show()"
      ],
      "metadata": {
        "id": "zseddwtLka8X"
      },
      "execution_count": null,
      "outputs": []
    },
    {
      "cell_type": "code",
      "source": [
        "# 3. Qual o órgão que gera maior receita? OK\n",
        "# fazer a relação entre \"orgao_nome\" e \"receita_arrecadada\"\n",
        "\n",
        "\n",
        "soma_por_orgao = df.groupby('orgao_nome')['receita_arrecadada'].sum().reset_index()\n",
        "orgao_maior_receita = soma_por_orgao.loc[soma_por_orgao['receita_arrecadada'].idxmax()]['orgao_nome']\n",
        "\n",
        "\n",
        "print(soma_por_orgao)\n",
        "print(f\"O órgão que gera a maior receita é: {orgao_maior_receita}\")"
      ],
      "metadata": {
        "id": "uv9EZ6uhpro2"
      },
      "execution_count": null,
      "outputs": []
    },
    {
      "cell_type": "code",
      "source": [
        "# 4. Para todos os órgãos, qual foi o mês de maior renda? Verifique o contexto. OK\n",
        "#R: orgao_nome, mes, receita_arrecadada\n",
        "\n",
        "soma_por_orgao_mes = df.groupby(['orgao_nome', 'mes'])['receita_arrecadada'].sum().reset_index()\n",
        "print(soma_por_orgao_mes)\n",
        "\n",
        "# Agora ver o mes de maior valor para cada orgao\n",
        "\n",
        "# Encontre o índice do mês com a maior renda para cada órgão\n",
        "indices_max_renda_por_orgao = soma_por_orgao_mes.groupby('orgao_nome')['receita_arrecadada'].idxmax()\n",
        "\n",
        "# Use os índices para obter o mês correspondente com a maior renda\n",
        "meses_de_maior_renda_por_orgao = soma_por_orgao_mes.loc[indices_max_renda_por_orgao]\n",
        "\n",
        "# Exiba o resultado\n",
        "print(meses_de_maior_renda_por_orgao)\n",
        "print(f\"O mês de maior renda para cada orgao é: {meses_de_maior_renda_por_orgao}\")"
      ],
      "metadata": {
        "id": "cQ4eKU53wCRw"
      },
      "execution_count": null,
      "outputs": []
    },
    {
      "cell_type": "code",
      "source": [
        "# 5. Qual o mês de maior valor de despesas? OK\n",
        "# R: é igual ex.1 - colunas \"mes\" e \"valor_pago\"\n",
        "\n",
        "\n",
        "listaMes_Despesas = df.groupby(by= 'mes_movimentacao')['valor_pago'].sum().sort_values(ascending=False)\n",
        "\n",
        "print(listaMes_Despesas)\n",
        "print(f\"O mes de maior despesa é: {listaMes_Despesas.index[0]}\")"
      ],
      "metadata": {
        "id": "dIXgTNX9wCPK"
      },
      "execution_count": null,
      "outputs": []
    },
    {
      "cell_type": "code",
      "source": [
        "# 6. De acordo com os dados, qual o órgão gera as maiores despesas? OK\n",
        "# R: orgao_nome e valor_pago\n",
        "\n",
        "listaOrgao_Despesas = df.groupby(by= 'orgao_nome')['valor_pago'].sum().sort_values(ascending=False)\n",
        "listaOrgao_Despesas = listaOrgao_Despesas.astype(int)\n",
        "\n",
        "print(listaOrgao_Despesas)\n",
        "print(f\"O Orgao que possui maior despesa é: {listaOrgao_Despesas.index[0]}\")"
      ],
      "metadata": {
        "id": "EmZqLXXJwCMr"
      },
      "execution_count": null,
      "outputs": []
    },
    {
      "cell_type": "code",
      "source": [
        "# 7. Em cada órgão é o mesmo grupo de despesas que gera o maior gasto?  OK\n",
        "# R: orgao_nome, grupo_despesa_nome e valor_pago\n",
        "\n",
        "grupo_orgao_grupo_despesas  = df.groupby(['orgao_nome', 'grupo_despesa_nome'])['valor_pago'].sum().sort_values(ascending=False)\n",
        "grupo_orgao_grupo_despesas = grupo_orgao_grupo_despesas.astype(int)\n",
        "\n",
        "\n",
        "print(grupo_orgao_grupo_despesas)\n",
        "\n",
        "\n",
        "# verificar os maiores gastos por órgao x grupo de despesa\n",
        "\n",
        "grupo_orgao_grupo_despesas = pd.DataFrame(data = grupo_orgao_grupo_despesas)\n",
        "grupo_orgao_grupo_despesas\n",
        "\n",
        "# Encontre o índice do grupo de despesa com o maior gasto em cada órgão\n",
        "indices_max_gasto_por_orgao = grupo_orgao_grupo_despesas.groupby('orgao_nome')\n",
        "max_gasto_por_orgao_valorPago = indices_max_gasto_por_orgao['valor_pago'].idxmax()\n",
        "\n",
        "# Use os índices para obter o grupo de despesa correspondente com o maior gasto\n",
        "grupo_despesa_max_gasto_por_orgao = grupo_orgao_grupo_despesas.loc[max_gasto_por_orgao_valorPago]\n",
        "\n",
        "# Exiba o resultado\n",
        "grupo_despesa_max_gasto_por_orgao"
      ],
      "metadata": {
        "id": "QoUESpcewCKN"
      },
      "execution_count": null,
      "outputs": []
    },
    {
      "cell_type": "code",
      "source": [
        "# 8. Quem é o principal credor para cada órgão? OK\n",
        "# R: orgao_nome, credor_nome e valor_pago\n",
        "\n",
        "\n",
        "grupo_orgao_credor_valorPago  = df.groupby(['orgao_nome', 'credor_nome',])['valor_pago'].sum().sort_values(ascending=False)\n",
        "grupo_orgao_credor_valorPago = grupo_orgao_credor_valorPago.astype(int)\n",
        "grupo_orgao_credor_valorPago = grupo_orgao_credor_valorPago.reset_index()\n",
        "\n",
        "maior_credor_por_orgao = grupo_orgao_credor_valorPago.groupby('orgao_nome').first()\n",
        "maior_credor_por_orgao = maior_credor_por_orgao.sort_values(by=['valor_pago', 'credor_nome'], ascending=[False, True])\n",
        "\n",
        "maior_credor_por_orgao\n"
      ],
      "metadata": {
        "id": "W_HCbceBwCHV"
      },
      "execution_count": null,
      "outputs": []
    },
    {
      "cell_type": "code",
      "source": [
        "# 9. Qual a principal modalidade do credor de cada órgão?\n",
        "# R: credor_nome, modalidade_licitacao_nome\n",
        "\n",
        "grupo_modalidade_credor_valorPago  = df.groupby(['modalidade_licitacao_nome', 'credor_nome',])['valor_pago'].sum().sort_values(ascending=False)\n",
        "grupo_modalidade_credor_valorPago = grupo_modalidade_credor_valorPago.astype(int)\n",
        "grupo_modalidade_credor_valorPago = grupo_modalidade_credor_valorPago.reset_index()\n",
        "\n",
        "maior_credor_por_modalidade = grupo_modalidade_credor_valorPago.groupby('modalidade_licitacao_nome').first()\n",
        "maior_credor_por_modalidade = maior_credor_por_modalidade.sort_values(by=['valor_pago', 'credor_nome'], ascending=[False, True])\n",
        "\n",
        "maior_credor_por_modalidade"
      ],
      "metadata": {
        "id": "Fw_t_ks6wKif"
      },
      "execution_count": null,
      "outputs": []
    },
    {
      "cell_type": "code",
      "source": [
        "# 10. No banco de contratos fornecido, qual o principal órgão contratante? Quais os principais objetos de contratação?\n",
        "# R: 'orgaocontratante' e contar a quantidade\t // coluna \"objetocontrato\" e contar a quantidade\n",
        "\n",
        "df['Soma_contratos'] = df['valorcontrato1'] + df['valorcontrato2']\n",
        "\n",
        "soma_por_OrgaoContratante = df.groupby('orgaocontratante')['Soma_contratos'].sum().reset_index()\n",
        "soma_por_OrgaoContratante['Soma_contratos'] = soma_por_OrgaoContratante['Soma_contratos'].astype(int)\n",
        "soma_por_OrgaoContratante = soma_por_OrgaoContratante.sort_values(by='Soma_contratos', ascending=False)\n",
        "\n",
        "print(soma_por_OrgaoContratante)\n",
        "\n",
        "# CONTAGEM DO PRINCIPAL ORGAO CONTRATANTE:\n",
        "\n",
        "contagem_OrgaoContratante = df['orgaocontratante'].value_counts()\n",
        "\n",
        "print(contagem_OrgaoContratante)\n",
        "\n",
        "print(f\"O principal órgão contratante em quantidade é: {contagem_OrgaoContratante.index[0]}\")\n",
        "\n",
        "# CONTAGEM Dos principais objetos de contratação:\n",
        "\n",
        "contagem_objetocontrato = df['objetocontrato'].value_counts()\n",
        "\n",
        "contagem_objetocontrato\n"
      ],
      "metadata": {
        "id": "BCMTrDp8wKa_"
      },
      "execution_count": null,
      "outputs": []
    },
    {
      "cell_type": "code",
      "source": [
        "# 11. Qual foi o ano com maior número de contratos?\n",
        "# R: fazer uma contagem de 'numerocontrato' por\t\"anocontrato\"\n",
        "\n",
        "# Use groupby() para agrupar por 'anocontrato' e count() para contar o número de contratos em cada ano\n",
        "contagem_por_ano = df.groupby('anocontrato')['numerocontrato'].count().reset_index()\n",
        "df = df[df['anocontrato'] != 0]\n",
        "\n",
        "# Renomeie a coluna de contagem\n",
        "contagem_por_ano = contagem_por_ano.rename(columns={'numerocontrato': 'contagem'})\n",
        "\n",
        "contagem_por_ano"
      ],
      "metadata": {
        "id": "SfowTmDbwKTt"
      },
      "execution_count": null,
      "outputs": []
    },
    {
      "cell_type": "code",
      "source": [
        "# 12. Quais são os contratos mais caros?\n",
        "#R: objetocontrato e soma \"valorcontrato1 + valorcontrato2\t\"\n",
        "\n",
        "df['Soma_contratos'] = df['valorcontrato1'] + df['valorcontrato2']\n",
        "df['Soma_contratos'] = df['Soma_contratos'].astype(int)\n",
        "df = df.sort_values(by='Soma_contratos', ascending=False)\n",
        "\n",
        "\n",
        "# Use nlargest() para obter os contratos mais caros (por exemplo, os top 10)\n",
        "top_contratos = df.nlargest(10, 'Soma_contratos')\n",
        "\n",
        "# Selecione apenas as colunas 'numerocontrato' e 'Soma_contratos'\n",
        "top_contratos = top_contratos[['numerocontrato', 'Soma_contratos']]\n",
        "\n",
        "# Exiba os contratos mais caros\n",
        "print(top_contratos)\n"
      ],
      "metadata": {
        "id": "gvDIi8RswKIh"
      },
      "execution_count": null,
      "outputs": []
    },
    {
      "cell_type": "code",
      "source": [
        "# 13. Quantos contratos encontram-se em vigência em 2021?\n",
        "#R: anocontrato = 2021 e relacionar com coluna \"situacaocontrato\" ou ver \"datafimvigencia\"?\n",
        "\n",
        "# Converta a coluna 'datafimvigencia' para o tipo datetime\n",
        "df['datafimvigencia'] = pd.to_datetime(df['datafimvigencia'], format='%d-%m-%Y')\n",
        "\n",
        "# Crie uma nova coluna 'anocontrato' para extrair o ano da data\n",
        "df['anocontrato'] = df['datafimvigencia'].dt.year\n",
        "\n",
        "# Use a função loc para selecionar as linhas com 'anocontrato' igual a 2021 e 'situacaocontrato' igual a 'CADASTRADO'\n",
        "ano2021_CADASTRADO = df.loc[(df['anocontrato'] == 2021) & (df['situacaocontrato'] == 'CADASTRADO')]\n",
        "\n",
        "# para fazer a contagem das linhas 'CADASTRADO' e '2021':\n",
        "Contratos_ativos_2021 = len(ano2021_CADASTRADO)\n",
        "\n",
        "print(f\"A quantidade de contratos em vigência é: {Contratos_ativos_2021}\")\n",
        "\n",
        "#VERIFICAR SE ESTA CORRETO"
      ],
      "metadata": {
        "id": "Dz2To6vVwB_n"
      },
      "execution_count": null,
      "outputs": []
    },
    {
      "cell_type": "code",
      "source": [
        "# 14. Qual a cidade com maior número de contratos?\n",
        "#R: \"cidadeendcontratado\" e contar a quantidade da coluna \"numerocontrato\"\n",
        "\n",
        "# Use groupby() para agrupar por 'cidadeendcontratado' e count() para contar o número de contratos em cada ano\n",
        "contagem_por_cidade = df.groupby('cidadeendcontratado')['numerocontrato'].count().reset_index()\n",
        "\n",
        "# top_10_cidades = contagem_por_cidade.nlargest(10, 'numerocontrato')\n",
        "top_10_cidades = contagem_por_cidade[contagem_por_cidade['cidadeendcontratado'] != '0'].nlargest(10, 'numerocontrato')\n",
        "\n",
        "print(top_10_cidades)\n"
      ],
      "metadata": {
        "id": "SZLXksoHwB0I"
      },
      "execution_count": null,
      "outputs": []
    },
    {
      "cell_type": "code",
      "source": [
        "# 15. Existe algum contratante frequente? Dispondo do mesmo objeto contratado (mesmo material ou serviço)?\n",
        "#R: contar os \"orgaocontratante\" e a quantidade de cada \"objetocontrato\"\n",
        "\n",
        "contagem_contratantes = df.groupby('orgaocontratante')['objetocontrato'].count().reset_index()\n",
        "\n",
        "print(contagem_contratantes)\n",
        "\n",
        "top_10_contratantes = contagem_contratantes.sort_values(by='objetocontrato', ascending=False).head(10)\n",
        "\n",
        "print(top_10_contratantes)\n",
        "\n",
        "###### GRÁFICO #######\n",
        "\n",
        "plt.figure(figsize=(12, 6))\n",
        "plt.barh(top_10_contratantes['orgaocontratante'], top_10_contratantes['objetocontrato'])\n",
        "plt.xlabel('Orgao Contratante')\n",
        "plt.ylabel(' Soma dos Objetos Contratado')\n",
        "plt.title('Top 10')\n",
        "\n",
        "######################\n",
        "\n",
        "# Ajuste o espaço entre as barras para melhor visualização (opcional)\n",
        "plt.tight_layout()\n",
        "\n",
        "plt.show()\n",
        "\n",
        "########\n",
        "# Contagem de objetos contratados por orgão contratante\n",
        "contagem_diferentes = df.groupby(['orgaocontratante', 'objetocontrato']).size().reset_index(name='contagem')\n",
        "\n",
        "# Identifique os contratantes frequentes com o mesmo objeto contratado\n",
        "contratantes_frequentes = contagem_diferentes[contagem_diferentes['contagem'] > 1]\n",
        "\n",
        "# Classifique os contratantes frequentes com base na contagem\n",
        "contratantes_frequentes = contratantes_frequentes.sort_values(by='contagem', ascending=False)\n",
        "\n",
        "contratantes_frequentes"
      ],
      "metadata": {
        "id": "76XJtNqpwJv7"
      },
      "execution_count": null,
      "outputs": []
    }
  ]
}